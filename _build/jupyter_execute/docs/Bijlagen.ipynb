{
 "cells": [
  {
   "cell_type": "markdown",
   "id": "4e9026a3",
   "metadata": {},
   "source": [
    "# Bijlagen\n",
    "\n",
    "Kunstmatige intelligentie (ChatGPT versie GPT3.5) is gebruikt bij het maken van dit project. ChatGPT is gebruikt om geschreven teksten te proeflezen en inhoud grammaticaal waar nodig te verbeteren. ChatGPT is ook gebruikt om lastige python code te schrijven voor het maken van grafieken.\n"
   ]
  },
  {
   "cell_type": "markdown",
   "id": "fd17fb07",
   "metadata": {},
   "source": [
    "# Tabel 1: Gebruik van kunstmatige intelligentie\n",
    "\n",
    "| Soort kunstmatige intelligentie | Reden voor gebruik | Waar het is gebruikt | Welke prompts zijn gebruikt |\n",
    "|--------|----------|----------|----------|\n",
    "| ChatGPT (GPT3.5) | Herschrijven van tekst om het grammaticaal te verbeteren en zodat de tekst meer theoretische informatie bevat | In de tekst van de inleiding | \"check deze tekst op spelfouten en grammatica\" en \"herscrijf deze inleiding op een wetenschappelijkere manier\"|\n",
    "| ChatGPT (GPT3.5) | Temperatuur getallen boven en onder de bar plot staven krijgen | In de Python code van het dataverhaal bij de grafiek \"10 Warmste en 10 koudste landen\" | \"op het moment staan de getallen die negatief zijn in de staven van de grafiek terwijl de temperatuur getallen juist onder aan de staven moet staan.\" en \"in deze grafiek zijn er 3 staven die wel een positieve temperatuur hebben dus hier moet de temperatuur juist boven de staaf staan.\" |\n",
    "| ChatGPT (GPT3.5) | Zorgen dat namen die enorm lang zijn \"south georgia and the south sandwich islands\" maximaal 25 karakters bevatten | In de Python code van het dataverhaal bij de grafiek \"10 Warmste en 10 koudste landen\" | \"de python code voor een jupyter notebook maakt twee grafieken. Echter zijn er landen die een veel te lange naam hebben. Hoe kan ik ervoor zorgen dat van land namen alleen de eerste 25 karakters worden laten zien in de grafiek op de x as?\" |"
   ]
  },
  {
   "cell_type": "code",
   "execution_count": null,
   "id": "cd33e8a2",
   "metadata": {},
   "outputs": [],
   "source": []
  }
 ],
 "metadata": {
  "kernelspec": {
   "display_name": "Python 3 (ipykernel)",
   "language": "python",
   "name": "python3"
  },
  "language_info": {
   "codemirror_mode": {
    "name": "ipython",
    "version": 3
   },
   "file_extension": ".py",
   "mimetype": "text/x-python",
   "name": "python",
   "nbconvert_exporter": "python",
   "pygments_lexer": "ipython3",
   "version": "3.9.12"
  }
 },
 "nbformat": 4,
 "nbformat_minor": 5
}